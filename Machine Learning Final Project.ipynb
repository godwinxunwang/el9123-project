{
 "cells": [
  {
   "cell_type": "markdown",
   "metadata": {},
   "source": [
    "# Study on Communities and Crime Data Set \n",
    "\n",
    "## Data Set Description\n",
    "__Abstract__: Communities within the United States. The data combines socio-economic data \n",
    "from the 1990 US Census, law enforcement data from the 1990 US LEMAS survey, and crime \n",
    "data from the 1995 FBI UCR.\n",
    "\n",
    "| Data Set Description\n",
    "| :------------- |:------------- |\n",
    "| Data Set Characteristics: | Multivariate \n",
    "| Number of Instances: | 1994 |\n",
    "| Area:     | Social      \n",
    "| Number of Attributes: | 128 \n",
    "| Date Donated | 2009-07-13      \n",
    "| Associated Tasks: | Regression"
   ]
  },
  {
   "cell_type": "markdown",
   "metadata": {},
   "source": [
    "## Load Data Set and Library\n",
    "We generate the attributes names list for loading the data by doing some tricks on the meta data of the data set. Load the data as pandas dataframe."
   ]
  },
  {
   "cell_type": "code",
   "execution_count": 88,
   "metadata": {
    "collapsed": true
   },
   "outputs": [],
   "source": [
    "import pandas as pd\n",
    "import numpy as np\n",
    "from sklearn import linear_model\n",
    "import math\n",
    "import matplotlib.pyplot as plt\n",
    "%matplotlib inline"
   ]
  },
  {
   "cell_type": "code",
   "execution_count": 89,
   "metadata": {
    "collapsed": true
   },
   "outputs": [],
   "source": [
    "# Attribute names extract from meta data\n",
    "names = ['state', 'county', 'community', 'communityname', 'fold', 'population', \n",
    "         'householdsize', 'racepctblack', 'racePctWhite', 'racePctAsian', 'racePctHisp', \n",
    "         'agePct12t21', 'agePct12t29', 'agePct16t24', 'agePct65up', 'numbUrban', 'pctUrban', \n",
    "         'medIncome', 'pctWWage', 'pctWFarmSelf', 'pctWInvInc', 'pctWSocSec', 'pctWPubAsst', \n",
    "         'pctWRetire', 'medFamInc', 'perCapInc', 'whitePerCap', 'blackPerCap', 'indianPerCap', \n",
    "         'AsianPerCap', 'OtherPerCap', 'HispPerCap', 'NumUnderPov', 'PctPopUnderPov', \n",
    "         'PctLess9thGrade', 'PctNotHSGrad', 'PctBSorMore', 'PctUnemployed', 'PctEmploy', \n",
    "         'PctEmplManu', 'PctEmplProfServ', 'PctOccupManu', 'PctOccupMgmtProf', 'MalePctDivorce',\n",
    "         'MalePctNevMarr', 'FemalePctDiv', 'TotalPctDiv', 'PersPerFam', 'PctFam2Par', \n",
    "         'PctKids2Par', 'PctYoungKids2Par', 'PctTeen2Par', 'PctWorkMomYoungKids', 'PctWorkMom', \n",
    "         'NumIlleg', 'PctIlleg', 'NumImmig', 'PctImmigRecent', 'PctImmigRec5', 'PctImmigRec8', \n",
    "         'PctImmigRec10', 'PctRecentImmig', 'PctRecImmig5', 'PctRecImmig8', 'PctRecImmig10', \n",
    "         'PctSpeakEnglOnly', 'PctNotSpeakEnglWell', 'PctLargHouseFam', 'PctLargHouseOccup', \n",
    "         'PersPerOccupHous', 'PersPerOwnOccHous', 'PersPerRentOccHous', 'PctPersOwnOccup', \n",
    "         'PctPersDenseHous', 'PctHousLess3BR', 'MedNumBR', 'HousVacant', 'PctHousOccup', \n",
    "         'PctHousOwnOcc', 'PctVacantBoarded', 'PctVacMore6Mos', 'MedYrHousBuilt', \n",
    "         'PctHousNoPhone', 'PctWOFullPlumb', 'OwnOccLowQuart', 'OwnOccMedVal', \n",
    "         'OwnOccHiQuart', 'RentLowQ', 'RentMedian', 'RentHighQ', 'MedRent', \n",
    "         'MedRentPctHousInc', 'MedOwnCostPctInc', 'MedOwnCostPctIncNoMtg', \n",
    "         'NumInShelters', 'NumStreet', 'PctForeignBorn', 'PctBornSameState', \n",
    "         'PctSameHouse85', 'PctSameCity85', 'PctSameState85', 'LemasSwornFT', \n",
    "         'LemasSwFTPerPop', 'LemasSwFTFieldOps', 'LemasSwFTFieldPerPop', 'LemasTotalReq', \n",
    "         'LemasTotReqPerPop', 'PolicReqPerOffic', 'PolicPerPop', 'RacialMatchCommPol', \n",
    "         'PctPolicWhite', 'PctPolicBlack', 'PctPolicHisp', 'PctPolicAsian', 'PctPolicMinor', \n",
    "         'OfficAssgnDrugUnits', 'NumKindsDrugsSeiz', 'PolicAveOTWorked', 'LandArea', \n",
    "         'PopDens', 'PctUsePubTrans', 'PolicCars', 'PolicOperBudg', 'LemasPctPolicOnPatr', \n",
    "         'LemasGangUnitDeploy', 'LemasPctOfficDrugUn', 'PolicBudgPerPop', \n",
    "         'ViolentCrimesPerPop']\n",
    "\n",
    "# Load the data\n",
    "df = pd.read_csv(\"http://archive.ics.uci.edu/ml/machine-learning-databases/communities/communities.data\",\n",
    "                 delim_whitespace=False, na_values='?', names=names)"
   ]
  },
  {
   "cell_type": "markdown",
   "metadata": {},
   "source": [
    "___Attribute Information___: (122 predictive, 5 non-predictive, 1 goal)\n",
    "\n",
    "First 5 attributes are not predictive, so we start from the 6th to the 122nd attribute. The last one is goal.\n",
    "\n",
    "As we can see, there are NaN values in the data. We just fill the empty blocks with mean value of that column."
   ]
  },
  {
   "cell_type": "code",
   "execution_count": 155,
   "metadata": {},
   "outputs": [
    {
     "data": {
      "text/html": [
       "<div>\n",
       "<style>\n",
       "    .dataframe thead tr:only-child th {\n",
       "        text-align: right;\n",
       "    }\n",
       "\n",
       "    .dataframe thead th {\n",
       "        text-align: left;\n",
       "    }\n",
       "\n",
       "    .dataframe tbody tr th {\n",
       "        vertical-align: top;\n",
       "    }\n",
       "</style>\n",
       "<table border=\"1\" class=\"dataframe\">\n",
       "  <thead>\n",
       "    <tr style=\"text-align: right;\">\n",
       "      <th></th>\n",
       "      <th>state</th>\n",
       "      <th>county</th>\n",
       "      <th>community</th>\n",
       "      <th>communityname</th>\n",
       "      <th>fold</th>\n",
       "      <th>population</th>\n",
       "      <th>householdsize</th>\n",
       "      <th>racepctblack</th>\n",
       "      <th>racePctWhite</th>\n",
       "      <th>racePctAsian</th>\n",
       "      <th>...</th>\n",
       "      <th>LandArea</th>\n",
       "      <th>PopDens</th>\n",
       "      <th>PctUsePubTrans</th>\n",
       "      <th>PolicCars</th>\n",
       "      <th>PolicOperBudg</th>\n",
       "      <th>LemasPctPolicOnPatr</th>\n",
       "      <th>LemasGangUnitDeploy</th>\n",
       "      <th>LemasPctOfficDrugUn</th>\n",
       "      <th>PolicBudgPerPop</th>\n",
       "      <th>ViolentCrimesPerPop</th>\n",
       "    </tr>\n",
       "  </thead>\n",
       "  <tbody>\n",
       "    <tr>\n",
       "      <th>0</th>\n",
       "      <td>8</td>\n",
       "      <td>NaN</td>\n",
       "      <td>NaN</td>\n",
       "      <td>Lakewoodcity</td>\n",
       "      <td>1</td>\n",
       "      <td>0.19</td>\n",
       "      <td>0.33</td>\n",
       "      <td>0.02</td>\n",
       "      <td>0.90</td>\n",
       "      <td>0.12</td>\n",
       "      <td>...</td>\n",
       "      <td>0.12</td>\n",
       "      <td>0.26</td>\n",
       "      <td>0.20</td>\n",
       "      <td>0.06</td>\n",
       "      <td>0.04</td>\n",
       "      <td>0.9</td>\n",
       "      <td>0.5</td>\n",
       "      <td>0.32</td>\n",
       "      <td>0.14</td>\n",
       "      <td>0.20</td>\n",
       "    </tr>\n",
       "    <tr>\n",
       "      <th>1</th>\n",
       "      <td>53</td>\n",
       "      <td>NaN</td>\n",
       "      <td>NaN</td>\n",
       "      <td>Tukwilacity</td>\n",
       "      <td>1</td>\n",
       "      <td>0.00</td>\n",
       "      <td>0.16</td>\n",
       "      <td>0.12</td>\n",
       "      <td>0.74</td>\n",
       "      <td>0.45</td>\n",
       "      <td>...</td>\n",
       "      <td>0.02</td>\n",
       "      <td>0.12</td>\n",
       "      <td>0.45</td>\n",
       "      <td>NaN</td>\n",
       "      <td>NaN</td>\n",
       "      <td>NaN</td>\n",
       "      <td>NaN</td>\n",
       "      <td>0.00</td>\n",
       "      <td>NaN</td>\n",
       "      <td>0.67</td>\n",
       "    </tr>\n",
       "    <tr>\n",
       "      <th>2</th>\n",
       "      <td>24</td>\n",
       "      <td>NaN</td>\n",
       "      <td>NaN</td>\n",
       "      <td>Aberdeentown</td>\n",
       "      <td>1</td>\n",
       "      <td>0.00</td>\n",
       "      <td>0.42</td>\n",
       "      <td>0.49</td>\n",
       "      <td>0.56</td>\n",
       "      <td>0.17</td>\n",
       "      <td>...</td>\n",
       "      <td>0.01</td>\n",
       "      <td>0.21</td>\n",
       "      <td>0.02</td>\n",
       "      <td>NaN</td>\n",
       "      <td>NaN</td>\n",
       "      <td>NaN</td>\n",
       "      <td>NaN</td>\n",
       "      <td>0.00</td>\n",
       "      <td>NaN</td>\n",
       "      <td>0.43</td>\n",
       "    </tr>\n",
       "    <tr>\n",
       "      <th>3</th>\n",
       "      <td>34</td>\n",
       "      <td>5.0</td>\n",
       "      <td>81440.0</td>\n",
       "      <td>Willingborotownship</td>\n",
       "      <td>1</td>\n",
       "      <td>0.04</td>\n",
       "      <td>0.77</td>\n",
       "      <td>1.00</td>\n",
       "      <td>0.08</td>\n",
       "      <td>0.12</td>\n",
       "      <td>...</td>\n",
       "      <td>0.02</td>\n",
       "      <td>0.39</td>\n",
       "      <td>0.28</td>\n",
       "      <td>NaN</td>\n",
       "      <td>NaN</td>\n",
       "      <td>NaN</td>\n",
       "      <td>NaN</td>\n",
       "      <td>0.00</td>\n",
       "      <td>NaN</td>\n",
       "      <td>0.12</td>\n",
       "    </tr>\n",
       "    <tr>\n",
       "      <th>4</th>\n",
       "      <td>42</td>\n",
       "      <td>95.0</td>\n",
       "      <td>6096.0</td>\n",
       "      <td>Bethlehemtownship</td>\n",
       "      <td>1</td>\n",
       "      <td>0.01</td>\n",
       "      <td>0.55</td>\n",
       "      <td>0.02</td>\n",
       "      <td>0.95</td>\n",
       "      <td>0.09</td>\n",
       "      <td>...</td>\n",
       "      <td>0.04</td>\n",
       "      <td>0.09</td>\n",
       "      <td>0.02</td>\n",
       "      <td>NaN</td>\n",
       "      <td>NaN</td>\n",
       "      <td>NaN</td>\n",
       "      <td>NaN</td>\n",
       "      <td>0.00</td>\n",
       "      <td>NaN</td>\n",
       "      <td>0.03</td>\n",
       "    </tr>\n",
       "    <tr>\n",
       "      <th>5</th>\n",
       "      <td>6</td>\n",
       "      <td>NaN</td>\n",
       "      <td>NaN</td>\n",
       "      <td>SouthPasadenacity</td>\n",
       "      <td>1</td>\n",
       "      <td>0.02</td>\n",
       "      <td>0.28</td>\n",
       "      <td>0.06</td>\n",
       "      <td>0.54</td>\n",
       "      <td>1.00</td>\n",
       "      <td>...</td>\n",
       "      <td>0.01</td>\n",
       "      <td>0.58</td>\n",
       "      <td>0.10</td>\n",
       "      <td>NaN</td>\n",
       "      <td>NaN</td>\n",
       "      <td>NaN</td>\n",
       "      <td>NaN</td>\n",
       "      <td>0.00</td>\n",
       "      <td>NaN</td>\n",
       "      <td>0.14</td>\n",
       "    </tr>\n",
       "  </tbody>\n",
       "</table>\n",
       "<p>6 rows × 128 columns</p>\n",
       "</div>"
      ],
      "text/plain": [
       "   state  county  community        communityname  fold  population  \\\n",
       "0      8     NaN        NaN         Lakewoodcity     1        0.19   \n",
       "1     53     NaN        NaN          Tukwilacity     1        0.00   \n",
       "2     24     NaN        NaN         Aberdeentown     1        0.00   \n",
       "3     34     5.0    81440.0  Willingborotownship     1        0.04   \n",
       "4     42    95.0     6096.0    Bethlehemtownship     1        0.01   \n",
       "5      6     NaN        NaN    SouthPasadenacity     1        0.02   \n",
       "\n",
       "   householdsize  racepctblack  racePctWhite  racePctAsian  \\\n",
       "0           0.33          0.02          0.90          0.12   \n",
       "1           0.16          0.12          0.74          0.45   \n",
       "2           0.42          0.49          0.56          0.17   \n",
       "3           0.77          1.00          0.08          0.12   \n",
       "4           0.55          0.02          0.95          0.09   \n",
       "5           0.28          0.06          0.54          1.00   \n",
       "\n",
       "          ...           LandArea  PopDens  PctUsePubTrans  PolicCars  \\\n",
       "0         ...               0.12     0.26            0.20       0.06   \n",
       "1         ...               0.02     0.12            0.45        NaN   \n",
       "2         ...               0.01     0.21            0.02        NaN   \n",
       "3         ...               0.02     0.39            0.28        NaN   \n",
       "4         ...               0.04     0.09            0.02        NaN   \n",
       "5         ...               0.01     0.58            0.10        NaN   \n",
       "\n",
       "   PolicOperBudg  LemasPctPolicOnPatr  LemasGangUnitDeploy  \\\n",
       "0           0.04                  0.9                  0.5   \n",
       "1            NaN                  NaN                  NaN   \n",
       "2            NaN                  NaN                  NaN   \n",
       "3            NaN                  NaN                  NaN   \n",
       "4            NaN                  NaN                  NaN   \n",
       "5            NaN                  NaN                  NaN   \n",
       "\n",
       "   LemasPctOfficDrugUn  PolicBudgPerPop  ViolentCrimesPerPop  \n",
       "0                 0.32             0.14                 0.20  \n",
       "1                 0.00              NaN                 0.67  \n",
       "2                 0.00              NaN                 0.43  \n",
       "3                 0.00              NaN                 0.12  \n",
       "4                 0.00              NaN                 0.03  \n",
       "5                 0.00              NaN                 0.14  \n",
       "\n",
       "[6 rows x 128 columns]"
      ]
     },
     "execution_count": 155,
     "metadata": {},
     "output_type": "execute_result"
    }
   ],
   "source": [
    "df.head(6)"
   ]
  },
  {
   "cell_type": "code",
   "execution_count": 91,
   "metadata": {
    "collapsed": true
   },
   "outputs": [],
   "source": [
    "# goal\n",
    "y = df['ViolentCrimesPerPop']\n",
    "# 122 predictive attributes\n",
    "X = df.loc[:, 'population': 'PolicBudgPerPop'].fillna(df.mean()).values\n",
    "# First 5 not predictive attributes\n",
    "X_info = df.loc[:, 'state']"
   ]
  },
  {
   "cell_type": "markdown",
   "metadata": {},
   "source": [
    "## L1 Regularization \n",
    "We first calculate the RSS of linear regression with different alphas. We use the range from log-5 to 0.1. K fold cross validation is used to get a accurate result of the RSS."
   ]
  },
  {
   "cell_type": "code",
   "execution_count": 92,
   "metadata": {
    "scrolled": true
   },
   "outputs": [
    {
     "name": "stdout",
     "output_type": "stream",
     "text": [
      "fold = 0\n",
      "fold = 1\n",
      "fold = 2\n",
      "fold = 3\n",
      "fold = 4\n",
      "fold = 5\n",
      "fold = 6\n",
      "fold = 7\n",
      "fold = 8\n",
      "fold = 9\n"
     ]
    }
   ],
   "source": [
    "import sklearn.model_selection\n",
    "\n",
    "# kfold\n",
    "nfold = 10\n",
    "kf = sklearn.model_selection.KFold(n_splits=nfold, shuffle=True)\n",
    "\n",
    "# alpha value from 10**-5 to 10**-1, 10 samples\n",
    "nalpha = 50\n",
    "alpha_test = np.logspace(-5, -1, nalpha)\n",
    "\n",
    "# create linear regression model with L1 regulation\n",
    "reg = linear_model.Lasso(warm_start=True)\n",
    "\n",
    "# define RSS\n",
    "RSS = np.zeros((nalpha, nfold))\n",
    "\n",
    "for isplit, Ind in enumerate(kf.split(X)):\n",
    "    print(\"fold = %d\" % isplit)\n",
    "    Itr, Its = Ind\n",
    "    Xtr = X[Itr, :]\n",
    "    ytr = y[Itr]\n",
    "    Xts = X[Its, :]\n",
    "    yts = y[Its]\n",
    "    for it, a in enumerate(alpha_test):\n",
    "        reg.alpha = a\n",
    "        reg.fit(Xtr, ytr);\n",
    "        yhat = reg.predict(Xts)\n",
    "        RSS[it, isplit] = np.mean((yhat - yts) ** 2)\n"
   ]
  },
  {
   "cell_type": "markdown",
   "metadata": {},
   "source": [
    "### 1 Standard Error Rule\n",
    "Plot the RSS with respect to different alpha. And we calculate the standard deviation of RSS for next step to apply 1 SE rule. As we can see, the lowest RSS is in the middle of the range.\n"
   ]
  },
  {
   "cell_type": "code",
   "execution_count": 93,
   "metadata": {},
   "outputs": [
    {
     "data": {
      "text/plain": [
       "Text(0,0.5,'Test RSS')"
      ]
     },
     "execution_count": 93,
     "metadata": {},
     "output_type": "execute_result"
    },
    {
     "data": {
      "image/png": "[encoded data removed]",
      "text/plain": [
       "<matplotlib.figure.Figure at 0x12ce8c780>"
      ]
     },
     "metadata": {},
     "output_type": "display_data"
    }
   ],
   "source": [
    "# mean RSS with respect to 10 fold\n",
    "RSS_mean = np.mean(RSS, axis=1)\n",
    "# standard error\n",
    "RSS_std = np.std(RSS, axis=1) / np.sqrt(nfold)\n",
    "# Plot the graph\n",
    "plt.errorbar(np.log10(alpha_test), RSS_mean, yerr=RSS_std)\n",
    "plt.grid()\n",
    "plt.xlabel('log(alpha)')\n",
    "plt.ylabel('Test RSS')\n"
   ]
  },
  {
   "cell_type": "markdown",
   "metadata": {},
   "source": [
    "To simplify the model while retain as much attributes, 1 SE rule is applied. And we can get the optimal alpha value and its corresponding RSS."
   ]
  },
  {
   "cell_type": "code",
   "execution_count": 94,
   "metadata": {},
   "outputs": [
    {
     "name": "stdout",
     "output_type": "stream",
     "text": [
      "The optimal alpha =   1.9307e-03\n",
      "Mean test RSS = 0.019412\n"
     ]
    }
   ],
   "source": [
    "# index of least RSS\n",
    "imin = np.argmin(RSS_mean)\n",
    "# least RSS\n",
    "alpha_min = alpha_test[imin]\n",
    "# 1 standard deviation rule\n",
    "RSS_tgt = RSS_mean[imin] + RSS_std[imin]\n",
    "iopt = np.where(RSS_mean <= RSS_tgt)[0][-1]\n",
    "alpha_opt = alpha_test[iopt]\n",
    "\n",
    "print(\"The optimal alpha = %12.4e\" % alpha_opt)\n",
    "print(\"Mean test RSS = %f\" % RSS_mean[iopt])\n"
   ]
  },
  {
   "cell_type": "markdown",
   "metadata": {},
   "source": [
    "Do the model fitting using the optimal alpha we get in previous step, and print out the attribute names whose coefficient is not zero. These attributes have a more influential to the predictable goal attribute."
   ]
  },
  {
   "cell_type": "code",
   "execution_count": 95,
   "metadata": {},
   "outputs": [
    {
     "name": "stdout",
     "output_type": "stream",
     "text": [
      "Index(['racepctblack', 'racePctWhite', 'pctUrban', 'MalePctDivorce',\n",
      "       'PctKids2Par', 'PctWorkMom', 'PctIlleg', 'PctPersDenseHous',\n",
      "       'HousVacant', 'PctHousOccup', 'PctVacantBoarded', 'NumStreet',\n",
      "       'LemasPctOfficDrugUn'],\n",
      "      dtype='object')\n"
     ]
    }
   ],
   "source": [
    "# try model fitting using optimal alpha\n",
    "model = linear_model.Lasso(alpha=alpha_opt, warm_start=True)\n",
    "model.fit(X, y)\n",
    "# print the attributes whose coefficient is not 0\n",
    "coef = model.coef_\n",
    "# index is extracted from the 6th attributes, so +5\n",
    "l1_coe = np.where(coef != 0)[0] + 5\n",
    "related_para = df.columns[l1_coe]\n",
    "nn_in = related_para.size\n",
    "print(related_para)"
   ]
  },
  {
   "cell_type": "markdown",
   "metadata": {},
   "source": [
    "Sort the dominant attributes by its coefficient values, we get a rank of these attributes from the lowest influence to the highest. "
   ]
  },
  {
   "cell_type": "code",
   "execution_count": 129,
   "metadata": {},
   "outputs": [
    {
     "data": {
      "text/plain": [
       "Index(['NumStreet', 'LemasPctOfficDrugUn', 'PctVacantBoarded', 'PctWorkMom',\n",
       "       'PctHousOccup', 'pctUrban', 'racepctblack', 'PctPersDenseHous',\n",
       "       'MalePctDivorce', 'HousVacant', 'racePctWhite', 'PctIlleg',\n",
       "       'PctKids2Par'],\n",
       "      dtype='object')"
      ]
     },
     "execution_count": 129,
     "metadata": {},
     "output_type": "execute_result"
    }
   ],
   "source": [
    "ind = np.argsort(np.abs(coef[l1_coe-5]))\n",
    "related_para[ind]\n",
    "#np.sort(np.abs(coef[l1_coe-5]))"
   ]
  },
  {
   "cell_type": "markdown",
   "metadata": {},
   "source": [
    "## SVR and Linear Regression\n",
    "We do linear regression, support vector regressionon and nueral network one by one on the whole data set with the selected attributes."
   ]
  },
  {
   "cell_type": "code",
   "execution_count": 12,
   "metadata": {},
   "outputs": [
    {
     "name": "stdout",
     "output_type": "stream",
     "text": [
      "Loss of linear regression is 0.018421184024430454. \n",
      "Loss of SVM is 0.015925207413192612\n"
     ]
    }
   ],
   "source": [
    "# Assign the data of dominant attributes into X and the goal attribute in y. X_info is used to store the \n",
    "# first 5 unpredictive attributes.\n",
    "X = np.array(df[related_para])\n",
    "X_info = np.array(X_info)\n",
    "y = np.array(y)\n",
    "\n",
    "# Doing linear regression and print out the total loss\n",
    "linear = linear_model.LinearRegression()\n",
    "linear.fit(X, y)\n",
    "y_pre_linear = linear.predict(X)\n",
    "loss_linear = np.mean((y_pre_linear - y) ** 2)\n",
    "print(\"Loss of linear regression is {}. \".format(loss_linear))\n",
    "\n",
    "# Doing support vector regression\n",
    "from sklearn import svm\n",
    "\n",
    "# Calculate for optimal C\n",
    "C_range = np.linspace(10, 50, 100)\n",
    "C_loss = []\n",
    "for c in C_range:\n",
    "    svr = svm.SVR(C=c)\n",
    "    svr.fit(X, y)\n",
    "    y_pre_svr = svr.predict(X)\n",
    "    loss_svr = np.mean((y_pre_svr - y) ** 2)\n",
    "    C_loss.append(loss_svr)\n",
    "\n",
    "c_arg_min = np.argmin(C_loss)\n",
    "C_opt = C_range[c_arg_min]\n",
    "\n",
    "# Run support vector regression with the optimal c and print the loss\n",
    "svr = svm.SVR(C=C_opt)\n",
    "svr.fit(X, y)\n",
    "y_pre_svr = svr.predict(X)\n",
    "loss_svr = np.mean((y_pre_svr - y) ** 2)\n",
    "print(\"Loss of SVM is {}\".format(loss_svr))\n"
   ]
  },
  {
   "cell_type": "markdown",
   "metadata": {},
   "source": [
    "## 2 Layers Neural Network\n",
    "We use keras with tensorflow as backend to do neural network. There are 2 layers in the model, one hidden layer and one output layer. The output number of the hidden layer is the same as the input. And in the output layer, there is only one output."
   ]
  },
  {
   "cell_type": "code",
   "execution_count": 16,
   "metadata": {},
   "outputs": [],
   "source": [
    "import keras\n",
    "from keras.models import Sequential\n",
    "from keras.layers import Dense\n",
    "\n",
    "nin = related_para.shape[0]\n",
    "model = Sequential()\n",
    "model.add(Dense(nin, input_dim=nin, kernel_initializer='normal', activation='relu'))\n",
    "model.add(Dense(1, kernel_initializer='normal'))\n",
    "# Compile model\n",
    "model.compile(loss='mean_squared_error', optimizer='adam')"
   ]
  },
  {
   "cell_type": "code",
   "execution_count": 46,
   "metadata": {},
   "outputs": [
    {
     "name": "stdout",
     "output_type": "stream",
     "text": [
      "After 0 trainings, the cost: 0.013871\n",
      "After 500 trainings, the cost: 0.013869\n",
      "After 1000 trainings, the cost: 0.013869\n",
      "After 1500 trainings, the cost: 0.013874\n",
      "After 2000 trainings, the cost: 0.013873\n",
      "After 2500 trainings, the cost: 0.013868\n",
      "After 3000 trainings, the cost: 0.013867\n",
      "After 3500 trainings, the cost: 0.013876\n",
      "After 4000 trainings, the cost: 0.013867\n",
      "After 4500 trainings, the cost: 0.013872\n",
      "After 5000 trainings, the cost: 0.013867\n"
     ]
    }
   ],
   "source": [
    "for step in range(5001):  \n",
    "    cost = model.train_on_batch(X, y)  \n",
    "    if step % 500 == 0:  \n",
    "        print(\"After %d trainings, the cost: %f\" % (step, cost))  "
   ]
  },
  {
   "cell_type": "code",
   "execution_count": 127,
   "metadata": {},
   "outputs": [
    {
     "name": "stdout",
     "output_type": "stream",
     "text": [
      "0.019101400758822194\n"
     ]
    }
   ],
   "source": [
    "# Print the loss of nn\n",
    "y_pre_nn = model.predict(X)\n",
    "print(np.mean((y_pre_nn - y)**2))"
   ]
  },
  {
   "cell_type": "markdown",
   "metadata": {},
   "source": [
    "## Visualization of the Results\n",
    "To visualize the predict value of each model, we export the results to a 'csv' file and plot the figure in our web page."
   ]
  },
  {
   "cell_type": "code",
   "execution_count": 137,
   "metadata": {},
   "outputs": [],
   "source": [
    "# Generate predict data and actual data refer to state\n",
    "import warnings\n",
    "import csv\n",
    "warnings.filterwarnings(\"ignore\")\n",
    "index = ['state', 'population']\n",
    "Loop = ['sample', 'linear', 'svr', 'nn']\n",
    "filename = 'y_data.json'\n",
    "for s in Loop:\n",
    "    data = df[index]\n",
    "    if (s == 'linear'):\n",
    "        filename = 'y_data_linear.csv'\n",
    "        data.loc[:, 'ViolentCrimesPerPop'] = pd.Series(y_pre_linear, index=df.index).values\n",
    "        data['ViolentCrimesPerPop'] = data['ViolentCrimesPerPop'] * data['population']\n",
    "    elif (s == 'svr'):\n",
    "        filename = 'y_data_svr.csv'\n",
    "        data.loc[:, 'ViolentCrimesPerPop'] = pd.Series(y_pre_svr, index=df.index).values\n",
    "        data['ViolentCrimesPerPop'] = data['ViolentCrimesPerPop'] * data['population']\n",
    "    elif (s == 'nn'):\n",
    "        filename = 'y_data_nn.csv'\n",
    "        data.loc[:, 'ViolentCrimesPerPop'] = pd.Series(y_pre_nn, index=df.index).values\n",
    "        data['ViolentCrimesPerPop'] = data['ViolentCrimesPerPop'] * data['population']\n",
    "    else:\n",
    "        filename = 'y_data.csv'\n",
    "        data.loc[:, 'ViolentCrimesPerPop'] = df['ViolentCrimesPerPop'] * df['population']\n",
    "    data = data.groupby(['state']).sum()\n",
    "    data['ViolentCrimesPerPop'] = data['ViolentCrimesPerPop'] / data['population']\n",
    "    data = data[['ViolentCrimesPerPop']]\n",
    "    data['state'] = data.index\n",
    "    data = data[['state', 'ViolentCrimesPerPop']]\n",
    "    y_out = data.to_csv(sep = ' ', header = False, index = False)\n",
    "    with open(filename,'w') as file:\n",
    "        for lines in y_out:\n",
    "            file.write(lines)"
   ]
  },
  {
   "cell_type": "markdown",
   "metadata": {},
   "source": [
    "## Reference\n",
    "U. S. Department of Commerce, Bureau of the Census, Census Of Population And Housing 1990 United States: Summary Tape File 1a & 3a (Computer Files), \n",
    "\n",
    "\n",
    "U.S. Department Of Commerce, Bureau Of The Census Producer, Washington, DC and Inter-university Consortium for Political and Social Research Ann Arbor, Michigan. (1992) \n",
    "\n",
    "\n",
    "U.S. Department of Justice, Bureau of Justice Statistics, Law Enforcement Management And Administrative Statistics (Computer File) U.S. Department Of Commerce, Bureau Of The Census Producer, Washington, DC and Inter-university Consortium for Political and Social Research Ann Arbor, Michigan. (1992) \n",
    "\n",
    "\n",
    "U.S. Department of Justice, Federal Bureau of Investigation, Crime in the United States (Computer File) (1995) \n",
    "\n",
    "\n",
    "Redmond, M. A. and A. Baveja: A Data-Driven Software Tool for Enabling Cooperative Information Sharing Among Police Departments. European Journal of Operational Research 141 (2002) 660-678."
   ]
  }
 ],
 "metadata": {
  "kernelspec": {
   "display_name": "Python 3",
   "language": "python",
   "name": "python3"
  },
  "language_info": {
   "codemirror_mode": {
    "name": "ipython",
    "version": 3
   },
   "file_extension": ".py",
   "mimetype": "text/x-python",
   "name": "python",
   "nbconvert_exporter": "python",
   "pygments_lexer": "ipython3",
   "version": "3.6.1"
  }
 },
 "nbformat": 4,
 "nbformat_minor": 2
}
